{
 "cells": [
  {
   "cell_type": "code",
   "execution_count": 18,
   "metadata": {},
   "outputs": [],
   "source": [
    "import pandas as pd\n",
    "import numpy as np\n",
    "from sklearn.model_selection import train_test_split\n",
    "from sklearn import svm\n",
    "import seaborn as sns\n",
    "\n",
    "# import scikit-learn metrics module for accuracy calculation\n",
    "from sklearn import metrics"
   ]
  },
  {
   "cell_type": "code",
   "execution_count": 19,
   "metadata": {
    "scrolled": false
   },
   "outputs": [
    {
     "name": "stdout",
     "output_type": "stream",
     "text": [
      "Columns: ['id' 'diagnosis' 'radius_mean' 'texture_mean' 'perimeter_mean'\n",
      " 'area_mean' 'smoothness_mean' 'compactness_mean' 'concavity_mean'\n",
      " 'concave points_mean' 'symmetry_mean' 'fractal_dimension_mean'\n",
      " 'radius_se' 'texture_se' 'perimeter_se' 'area_se' 'smoothness_se'\n",
      " 'compactness_se' 'concavity_se' 'concave points_se' 'symmetry_se'\n",
      " 'fractal_dimension_se' 'radius_worst' 'texture_worst' 'perimeter_worst'\n",
      " 'area_worst' 'smoothness_worst' 'compactness_worst' 'concavity_worst'\n",
      " 'concave points_worst' 'symmetry_worst' 'fractal_dimension_worst'\n",
      " 'Unnamed: 32'] \n",
      "\n",
      "<class 'pandas.core.frame.DataFrame'>\n",
      "RangeIndex: 569 entries, 0 to 568\n",
      "Data columns (total 32 columns):\n",
      "diagnosis                  569 non-null object\n",
      "radius_mean                569 non-null float64\n",
      "texture_mean               569 non-null float64\n",
      "perimeter_mean             569 non-null float64\n",
      "area_mean                  569 non-null float64\n",
      "smoothness_mean            569 non-null float64\n",
      "compactness_mean           569 non-null float64\n",
      "concavity_mean             569 non-null float64\n",
      "concave points_mean        569 non-null float64\n",
      "symmetry_mean              569 non-null float64\n",
      "fractal_dimension_mean     569 non-null float64\n",
      "radius_se                  569 non-null float64\n",
      "texture_se                 569 non-null float64\n",
      "perimeter_se               569 non-null float64\n",
      "area_se                    569 non-null float64\n",
      "smoothness_se              569 non-null float64\n",
      "compactness_se             569 non-null float64\n",
      "concavity_se               569 non-null float64\n",
      "concave points_se          569 non-null float64\n",
      "symmetry_se                569 non-null float64\n",
      "fractal_dimension_se       569 non-null float64\n",
      "radius_worst               569 non-null float64\n",
      "texture_worst              569 non-null float64\n",
      "perimeter_worst            569 non-null float64\n",
      "area_worst                 569 non-null float64\n",
      "smoothness_worst           569 non-null float64\n",
      "compactness_worst          569 non-null float64\n",
      "concavity_worst            569 non-null float64\n",
      "concave points_worst       569 non-null float64\n",
      "symmetry_worst             569 non-null float64\n",
      "fractal_dimension_worst    569 non-null float64\n",
      "Unnamed: 32                0 non-null float64\n",
      "dtypes: float64(31), object(1)\n",
      "memory usage: 142.4+ KB\n",
      "None \n",
      "\n",
      "dataframe shape: (569, 32) \n",
      "Features dimensions: (569, 30) \n",
      "Labels dimensions: (569,)\n"
     ]
    },
    {
     "data": {
      "image/png": "[encoded data removed]",
      "text/plain": [
       "<Figure size 432x288 with 1 Axes>"
      ]
     },
     "metadata": {
      "needs_background": "light"
     },
     "output_type": "display_data"
    }
   ],
   "source": [
    "df = pd.read_csv('data.csv')\n",
    "print('Columns:', df.columns.values, '\\n')\n",
    "df.drop(\"id\", axis=1, inplace=True)\n",
    "print(df.info(), '\\n')\n",
    "'''\n",
    "    df.info() shows that the 'Unnamed: 32' column has 0 non-null values, which means that all the values in that\n",
    "    column are null values. Hence, we will drop that column\n",
    "'''\n",
    "df.drop(\"Unnamed: 32\", axis=1, inplace=True) \n",
    "df['label'] = df['diagnosis'].map({'M':1, 'B': 0})\n",
    "\n",
    "# this plot tells us that there are more cases of the tumour being Benign than Malignant\n",
    "sns.countplot(df['label'],label=\"Count\") \n",
    "\n",
    "X = np.array(df.drop(['label', 'diagnosis'], axis=1))\n",
    "y = np.array(df['label'])\n",
    "print('dataframe shape:',df.shape, '\\nFeatures dimensions:', X.shape, '\\nLabels dimensions:', y.shape)"
   ]
  },
  {
   "cell_type": "code",
   "execution_count": 20,
   "metadata": {},
   "outputs": [
    {
     "name": "stdout",
     "output_type": "stream",
     "text": [
      "(455, 30) (455,) (114, 30) (114,)\n"
     ]
    }
   ],
   "source": [
    "X_train, X_test, y_train, y_test = train_test_split(X, y, test_size=0.2)\n",
    "print(X_train.shape, y_train.shape, X_test.shape, y_test.shape)"
   ]
  },
  {
   "cell_type": "code",
   "execution_count": 21,
   "metadata": {},
   "outputs": [
    {
     "name": "stdout",
     "output_type": "stream",
     "text": [
      "[0 0 0 0 1 1 1 0 0 1 0 0 0 0 0 1 0 0 0 0 0 1 1 1 0 0 0 0 1 1 0 0 1 0 1 0 0\n",
      " 0 0 0 1 1 0 1 0 0 0 0 0 1 1 0 0 0 0 1 1 0 0 1 1 0 0 1 1 0 1 1 0 1 0 0 0 1\n",
      " 0 1 0 0 1 0 0 1 1 0 0 0 0 0 0 1 0 1 0 0 0 1 1 0 0 0 0 0 0 0 0 0 1 0 1 0 0\n",
      " 0 1 1]\n"
     ]
    }
   ],
   "source": [
    "# create a svm Classifier\n",
    "clf = svm.SVC(kernel='linear') # Linear Kernel\n",
    "\n",
    "# train the model using the training sets\n",
    "clf.fit(X_train, y_train)\n",
    "\n",
    "# predict the response for test dataset\n",
    "y_pred = clf.predict(X_test)\n",
    "\n",
    "print(y_pred)"
   ]
  },
  {
   "cell_type": "code",
   "execution_count": 22,
   "metadata": {},
   "outputs": [
    {
     "name": "stdout",
     "output_type": "stream",
     "text": [
      "Accuracy:  0.9473684210526315\n"
     ]
    }
   ],
   "source": [
    "# model Accuracy: how often is the classifier correct?\n",
    "print(\"Accuracy: \", metrics.accuracy_score(y_test, y_pred))"
   ]
  }
 ],
 "metadata": {
  "kernelspec": {
   "display_name": "Python 3",
   "language": "python",
   "name": "python3"
  },
  "language_info": {
   "codemirror_mode": {
    "name": "ipython",
    "version": 3
   },
   "file_extension": ".py",
   "mimetype": "text/x-python",
   "name": "python",
   "nbconvert_exporter": "python",
   "pygments_lexer": "ipython3",
   "version": "3.6.8"
  }
 },
 "nbformat": 4,
 "nbformat_minor": 2
}
